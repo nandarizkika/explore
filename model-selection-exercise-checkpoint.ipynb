{
 "cells": [
  {
   "cell_type": "markdown",
   "id": "b901919b",
   "metadata": {},
   "source": [
    "# Import Libraries"
   ]
  },
  {
   "cell_type": "code",
   "execution_count": 1,
   "id": "a2fd8ee8",
   "metadata": {},
   "outputs": [],
   "source": [
    "import numpy as np\n",
    "import pandas as pd\n",
    "\n",
    "from math import log, ceil \n",
    "\n",
    "import matplotlib.pyplot as plt\n",
    "import seaborn as sns\n",
    "\n",
    "from sklearn.model_selection import train_test_split, GridSearchCV\n",
    "from sklearn.linear_model import LogisticRegression\n",
    "from sklearn.ensemble import RandomForestClassifier\n",
    "from sklearn.impute import SimpleImputer\n",
    "from sklearn.preprocessing import FunctionTransformer\n",
    "from sklearn.feature_selection import SelectFromModel\n",
    "from sklearn.compose import ColumnTransformer\n",
    "from sklearn.pipeline import Pipeline\n",
    "from sklearn.preprocessing import StandardScaler, OneHotEncoder\n",
    "from sklearn.metrics import classification_report, roc_auc_score, accuracy_score\n",
    "\n",
    "from xverse.transformer import WOE\n",
    "from xverse.ensemble import VotingSelector\n",
    "from xgboost import XGBClassifier\n",
    "import xgboost\n",
    "\n",
    "import warnings\n",
    "warnings.filterwarnings('ignore')"
   ]
  },
  {
   "cell_type": "markdown",
   "id": "36135011",
   "metadata": {},
   "source": [
    "# Load Data and Set Target"
   ]
  },
  {
   "cell_type": "code",
   "execution_count": 27,
   "id": "ce39bc1e",
   "metadata": {
    "scrolled": false
   },
   "outputs": [],
   "source": [
    "data = pd.read_csv('credit_risk_dataset.csv')\n",
    "data.drop_duplicates(inplace=True)\n",
    "\n",
    "y = data['loan_status'].copy()\n",
    "x = data.drop(columns = 'loan_status').copy()"
   ]
  },
  {
   "cell_type": "markdown",
   "id": "38ee9cdb",
   "metadata": {},
   "source": [
    "# Handling Missing Value and Outlier with WOE"
   ]
  },
  {
   "cell_type": "code",
   "execution_count": 28,
   "id": "ddd9c48d",
   "metadata": {},
   "outputs": [],
   "source": [
    "def woe(data):\n",
    "    woe = {\n",
    "        'person_age' : {'binning':[-float(\"inf\"), 21, float(\"inf\")], 'labels':[-0.433, -0.019],'nan':0},\n",
    "        'loan_int_rate' : {'binning':[-float(\"inf\"), 14, 18, float(\"inf\")], 'labels':[-0.465, 1.303, 2.066],'nan':-0.068},\n",
    "        'loan_percent_income' : {'binning':[-float(\"inf\"), 0.3, 0.5, 0.75, float(\"inf\")], 'labels':[-0.431, 2.111, 2.572, 2.662],'nan':0},\n",
    "        'person_income' : {'binning':[-float(\"inf\"), 20000, 60000, 100000, float(\"inf\")], 'labels':[2.397, 0.222, -0.595, -0.973],'nan':0},\n",
    "        'loan_amnt' : {'binning':[-float(\"inf\"), 13000, 18000, 23000, float(\"inf\")], 'labels':[-0.154, 0.261, 0.572, 0.704],'nan':0},\n",
    "        'person_emp_length' : {'binning':[-float(\"inf\"), 2, 4, float(\"inf\")], 'labels':[0.285, -0.071, -0.253],'nan':0.499},\n",
    "        'cb_person_cred_hist_length' : {'binning':[-float(\"inf\"), 3, 4, 8, 15.5, float(\"inf\")], 'labels':[0.066, 0.031, -0.071, -0.076, -0.010],'nan':0}    \n",
    "    }\n",
    "\n",
    "    for feature, woe_info in woe.items():\n",
    "        data[f'{feature}_WOE'] = pd.cut(data[feature], bins = woe_info['binning'], labels = woe_info['labels'])\n",
    "        data[f'{feature}_WOE'] = data[f'{feature}_WOE'].values.add_categories('Nan').fillna('Nan')\n",
    "        data[f'{feature}_WOE'] = data[f'{feature}_WOE'].replace('Nan', woe_info['nan'])\n",
    "        data[f'{feature}_WOE'] = data[f'{feature}_WOE'].astype(float)\n",
    "        data.drop(columns = f'{feature}', inplace=True)\n",
    "    \n",
    "    return data"
   ]
  },
  {
   "cell_type": "code",
   "execution_count": 29,
   "id": "89e1dd09",
   "metadata": {
    "scrolled": true
   },
   "outputs": [
    {
     "data": {
      "text/html": [
       "<div>\n",
       "<style scoped>\n",
       "    .dataframe tbody tr th:only-of-type {\n",
       "        vertical-align: middle;\n",
       "    }\n",
       "\n",
       "    .dataframe tbody tr th {\n",
       "        vertical-align: top;\n",
       "    }\n",
       "\n",
       "    .dataframe thead th {\n",
       "        text-align: right;\n",
       "    }\n",
       "</style>\n",
       "<table border=\"1\" class=\"dataframe\">\n",
       "  <thead>\n",
       "    <tr style=\"text-align: right;\">\n",
       "      <th></th>\n",
       "      <th>person_home_ownership</th>\n",
       "      <th>loan_intent</th>\n",
       "      <th>loan_grade</th>\n",
       "      <th>cb_person_default_on_file</th>\n",
       "      <th>person_age_WOE</th>\n",
       "      <th>loan_int_rate_WOE</th>\n",
       "      <th>loan_percent_income_WOE</th>\n",
       "      <th>person_income_WOE</th>\n",
       "      <th>loan_amnt_WOE</th>\n",
       "      <th>person_emp_length_WOE</th>\n",
       "      <th>cb_person_cred_hist_length_WOE</th>\n",
       "    </tr>\n",
       "  </thead>\n",
       "  <tbody>\n",
       "    <tr>\n",
       "      <th>0</th>\n",
       "      <td>RENT</td>\n",
       "      <td>PERSONAL</td>\n",
       "      <td>D</td>\n",
       "      <td>Y</td>\n",
       "      <td>-0.019</td>\n",
       "      <td>1.303</td>\n",
       "      <td>2.572</td>\n",
       "      <td>0.222</td>\n",
       "      <td>0.704</td>\n",
       "      <td>-0.253</td>\n",
       "      <td>0.066</td>\n",
       "    </tr>\n",
       "    <tr>\n",
       "      <th>1</th>\n",
       "      <td>OWN</td>\n",
       "      <td>EDUCATION</td>\n",
       "      <td>B</td>\n",
       "      <td>N</td>\n",
       "      <td>-0.433</td>\n",
       "      <td>-0.465</td>\n",
       "      <td>-0.431</td>\n",
       "      <td>2.397</td>\n",
       "      <td>-0.154</td>\n",
       "      <td>-0.253</td>\n",
       "      <td>0.066</td>\n",
       "    </tr>\n",
       "    <tr>\n",
       "      <th>2</th>\n",
       "      <td>MORTGAGE</td>\n",
       "      <td>MEDICAL</td>\n",
       "      <td>C</td>\n",
       "      <td>N</td>\n",
       "      <td>-0.019</td>\n",
       "      <td>-0.465</td>\n",
       "      <td>2.572</td>\n",
       "      <td>2.397</td>\n",
       "      <td>-0.154</td>\n",
       "      <td>0.285</td>\n",
       "      <td>0.066</td>\n",
       "    </tr>\n",
       "    <tr>\n",
       "      <th>3</th>\n",
       "      <td>RENT</td>\n",
       "      <td>MEDICAL</td>\n",
       "      <td>C</td>\n",
       "      <td>N</td>\n",
       "      <td>-0.019</td>\n",
       "      <td>1.303</td>\n",
       "      <td>2.572</td>\n",
       "      <td>-0.595</td>\n",
       "      <td>0.704</td>\n",
       "      <td>-0.071</td>\n",
       "      <td>0.066</td>\n",
       "    </tr>\n",
       "    <tr>\n",
       "      <th>4</th>\n",
       "      <td>RENT</td>\n",
       "      <td>MEDICAL</td>\n",
       "      <td>C</td>\n",
       "      <td>Y</td>\n",
       "      <td>-0.019</td>\n",
       "      <td>1.303</td>\n",
       "      <td>2.572</td>\n",
       "      <td>0.222</td>\n",
       "      <td>0.704</td>\n",
       "      <td>-0.253</td>\n",
       "      <td>0.031</td>\n",
       "    </tr>\n",
       "    <tr>\n",
       "      <th>...</th>\n",
       "      <td>...</td>\n",
       "      <td>...</td>\n",
       "      <td>...</td>\n",
       "      <td>...</td>\n",
       "      <td>...</td>\n",
       "      <td>...</td>\n",
       "      <td>...</td>\n",
       "      <td>...</td>\n",
       "      <td>...</td>\n",
       "      <td>...</td>\n",
       "      <td>...</td>\n",
       "    </tr>\n",
       "    <tr>\n",
       "      <th>32576</th>\n",
       "      <td>MORTGAGE</td>\n",
       "      <td>PERSONAL</td>\n",
       "      <td>C</td>\n",
       "      <td>N</td>\n",
       "      <td>-0.019</td>\n",
       "      <td>-0.465</td>\n",
       "      <td>-0.431</td>\n",
       "      <td>0.222</td>\n",
       "      <td>-0.154</td>\n",
       "      <td>0.285</td>\n",
       "      <td>-0.010</td>\n",
       "    </tr>\n",
       "    <tr>\n",
       "      <th>32577</th>\n",
       "      <td>MORTGAGE</td>\n",
       "      <td>PERSONAL</td>\n",
       "      <td>A</td>\n",
       "      <td>N</td>\n",
       "      <td>-0.019</td>\n",
       "      <td>-0.465</td>\n",
       "      <td>-0.431</td>\n",
       "      <td>-0.973</td>\n",
       "      <td>0.261</td>\n",
       "      <td>-0.071</td>\n",
       "      <td>-0.010</td>\n",
       "    </tr>\n",
       "    <tr>\n",
       "      <th>32578</th>\n",
       "      <td>RENT</td>\n",
       "      <td>HOMEIMPROVEMENT</td>\n",
       "      <td>B</td>\n",
       "      <td>N</td>\n",
       "      <td>-0.019</td>\n",
       "      <td>-0.465</td>\n",
       "      <td>2.111</td>\n",
       "      <td>-0.595</td>\n",
       "      <td>0.704</td>\n",
       "      <td>-0.071</td>\n",
       "      <td>-0.010</td>\n",
       "    </tr>\n",
       "    <tr>\n",
       "      <th>32579</th>\n",
       "      <td>MORTGAGE</td>\n",
       "      <td>PERSONAL</td>\n",
       "      <td>B</td>\n",
       "      <td>N</td>\n",
       "      <td>-0.019</td>\n",
       "      <td>-0.465</td>\n",
       "      <td>-0.431</td>\n",
       "      <td>-0.973</td>\n",
       "      <td>0.261</td>\n",
       "      <td>-0.253</td>\n",
       "      <td>-0.010</td>\n",
       "    </tr>\n",
       "    <tr>\n",
       "      <th>32580</th>\n",
       "      <td>RENT</td>\n",
       "      <td>MEDICAL</td>\n",
       "      <td>B</td>\n",
       "      <td>N</td>\n",
       "      <td>-0.019</td>\n",
       "      <td>-0.465</td>\n",
       "      <td>-0.431</td>\n",
       "      <td>0.222</td>\n",
       "      <td>-0.154</td>\n",
       "      <td>0.285</td>\n",
       "      <td>-0.010</td>\n",
       "    </tr>\n",
       "  </tbody>\n",
       "</table>\n",
       "<p>32416 rows × 11 columns</p>\n",
       "</div>"
      ],
      "text/plain": [
       "      person_home_ownership      loan_intent loan_grade  \\\n",
       "0                      RENT         PERSONAL          D   \n",
       "1                       OWN        EDUCATION          B   \n",
       "2                  MORTGAGE          MEDICAL          C   \n",
       "3                      RENT          MEDICAL          C   \n",
       "4                      RENT          MEDICAL          C   \n",
       "...                     ...              ...        ...   \n",
       "32576              MORTGAGE         PERSONAL          C   \n",
       "32577              MORTGAGE         PERSONAL          A   \n",
       "32578                  RENT  HOMEIMPROVEMENT          B   \n",
       "32579              MORTGAGE         PERSONAL          B   \n",
       "32580                  RENT          MEDICAL          B   \n",
       "\n",
       "      cb_person_default_on_file  person_age_WOE  loan_int_rate_WOE  \\\n",
       "0                             Y          -0.019              1.303   \n",
       "1                             N          -0.433             -0.465   \n",
       "2                             N          -0.019             -0.465   \n",
       "3                             N          -0.019              1.303   \n",
       "4                             Y          -0.019              1.303   \n",
       "...                         ...             ...                ...   \n",
       "32576                         N          -0.019             -0.465   \n",
       "32577                         N          -0.019             -0.465   \n",
       "32578                         N          -0.019             -0.465   \n",
       "32579                         N          -0.019             -0.465   \n",
       "32580                         N          -0.019             -0.465   \n",
       "\n",
       "       loan_percent_income_WOE  person_income_WOE  loan_amnt_WOE  \\\n",
       "0                        2.572              0.222          0.704   \n",
       "1                       -0.431              2.397         -0.154   \n",
       "2                        2.572              2.397         -0.154   \n",
       "3                        2.572             -0.595          0.704   \n",
       "4                        2.572              0.222          0.704   \n",
       "...                        ...                ...            ...   \n",
       "32576                   -0.431              0.222         -0.154   \n",
       "32577                   -0.431             -0.973          0.261   \n",
       "32578                    2.111             -0.595          0.704   \n",
       "32579                   -0.431             -0.973          0.261   \n",
       "32580                   -0.431              0.222         -0.154   \n",
       "\n",
       "       person_emp_length_WOE  cb_person_cred_hist_length_WOE  \n",
       "0                     -0.253                           0.066  \n",
       "1                     -0.253                           0.066  \n",
       "2                      0.285                           0.066  \n",
       "3                     -0.071                           0.066  \n",
       "4                     -0.253                           0.031  \n",
       "...                      ...                             ...  \n",
       "32576                  0.285                          -0.010  \n",
       "32577                 -0.071                          -0.010  \n",
       "32578                 -0.071                          -0.010  \n",
       "32579                 -0.253                          -0.010  \n",
       "32580                  0.285                          -0.010  \n",
       "\n",
       "[32416 rows x 11 columns]"
      ]
     },
     "execution_count": 29,
     "metadata": {},
     "output_type": "execute_result"
    }
   ],
   "source": [
    "transformer = FunctionTransformer(woe)\n",
    "sk_pipe = Pipeline(steps=[(\"trans\", transformer)])\n",
    "sk_pipe.fit_transform(data)\n",
    "sk_pipe.fit_transform(x)"
   ]
  },
  {
   "cell_type": "code",
   "execution_count": 30,
   "id": "2c52670a",
   "metadata": {
    "scrolled": true
   },
   "outputs": [
    {
     "data": {
      "text/html": [
       "<div>\n",
       "<style scoped>\n",
       "    .dataframe tbody tr th:only-of-type {\n",
       "        vertical-align: middle;\n",
       "    }\n",
       "\n",
       "    .dataframe tbody tr th {\n",
       "        vertical-align: top;\n",
       "    }\n",
       "\n",
       "    .dataframe thead th {\n",
       "        text-align: right;\n",
       "    }\n",
       "</style>\n",
       "<table border=\"1\" class=\"dataframe\">\n",
       "  <thead>\n",
       "    <tr style=\"text-align: right;\">\n",
       "      <th></th>\n",
       "      <th>person_home_ownership</th>\n",
       "      <th>loan_intent</th>\n",
       "      <th>loan_grade</th>\n",
       "      <th>cb_person_default_on_file</th>\n",
       "      <th>person_age_WOE</th>\n",
       "      <th>loan_int_rate_WOE</th>\n",
       "      <th>loan_percent_income_WOE</th>\n",
       "      <th>person_income_WOE</th>\n",
       "      <th>loan_amnt_WOE</th>\n",
       "      <th>person_emp_length_WOE</th>\n",
       "      <th>cb_person_cred_hist_length_WOE</th>\n",
       "    </tr>\n",
       "  </thead>\n",
       "  <tbody>\n",
       "    <tr>\n",
       "      <th>0</th>\n",
       "      <td>RENT</td>\n",
       "      <td>PERSONAL</td>\n",
       "      <td>D</td>\n",
       "      <td>Y</td>\n",
       "      <td>-0.019</td>\n",
       "      <td>1.303</td>\n",
       "      <td>2.572</td>\n",
       "      <td>0.222</td>\n",
       "      <td>0.704</td>\n",
       "      <td>-0.253</td>\n",
       "      <td>0.066</td>\n",
       "    </tr>\n",
       "    <tr>\n",
       "      <th>1</th>\n",
       "      <td>OWN</td>\n",
       "      <td>EDUCATION</td>\n",
       "      <td>B</td>\n",
       "      <td>N</td>\n",
       "      <td>-0.433</td>\n",
       "      <td>-0.465</td>\n",
       "      <td>-0.431</td>\n",
       "      <td>2.397</td>\n",
       "      <td>-0.154</td>\n",
       "      <td>-0.253</td>\n",
       "      <td>0.066</td>\n",
       "    </tr>\n",
       "    <tr>\n",
       "      <th>2</th>\n",
       "      <td>MORTGAGE</td>\n",
       "      <td>MEDICAL</td>\n",
       "      <td>C</td>\n",
       "      <td>N</td>\n",
       "      <td>-0.019</td>\n",
       "      <td>-0.465</td>\n",
       "      <td>2.572</td>\n",
       "      <td>2.397</td>\n",
       "      <td>-0.154</td>\n",
       "      <td>0.285</td>\n",
       "      <td>0.066</td>\n",
       "    </tr>\n",
       "    <tr>\n",
       "      <th>3</th>\n",
       "      <td>RENT</td>\n",
       "      <td>MEDICAL</td>\n",
       "      <td>C</td>\n",
       "      <td>N</td>\n",
       "      <td>-0.019</td>\n",
       "      <td>1.303</td>\n",
       "      <td>2.572</td>\n",
       "      <td>-0.595</td>\n",
       "      <td>0.704</td>\n",
       "      <td>-0.071</td>\n",
       "      <td>0.066</td>\n",
       "    </tr>\n",
       "    <tr>\n",
       "      <th>4</th>\n",
       "      <td>RENT</td>\n",
       "      <td>MEDICAL</td>\n",
       "      <td>C</td>\n",
       "      <td>Y</td>\n",
       "      <td>-0.019</td>\n",
       "      <td>1.303</td>\n",
       "      <td>2.572</td>\n",
       "      <td>0.222</td>\n",
       "      <td>0.704</td>\n",
       "      <td>-0.253</td>\n",
       "      <td>0.031</td>\n",
       "    </tr>\n",
       "    <tr>\n",
       "      <th>...</th>\n",
       "      <td>...</td>\n",
       "      <td>...</td>\n",
       "      <td>...</td>\n",
       "      <td>...</td>\n",
       "      <td>...</td>\n",
       "      <td>...</td>\n",
       "      <td>...</td>\n",
       "      <td>...</td>\n",
       "      <td>...</td>\n",
       "      <td>...</td>\n",
       "      <td>...</td>\n",
       "    </tr>\n",
       "    <tr>\n",
       "      <th>32576</th>\n",
       "      <td>MORTGAGE</td>\n",
       "      <td>PERSONAL</td>\n",
       "      <td>C</td>\n",
       "      <td>N</td>\n",
       "      <td>-0.019</td>\n",
       "      <td>-0.465</td>\n",
       "      <td>-0.431</td>\n",
       "      <td>0.222</td>\n",
       "      <td>-0.154</td>\n",
       "      <td>0.285</td>\n",
       "      <td>-0.010</td>\n",
       "    </tr>\n",
       "    <tr>\n",
       "      <th>32577</th>\n",
       "      <td>MORTGAGE</td>\n",
       "      <td>PERSONAL</td>\n",
       "      <td>A</td>\n",
       "      <td>N</td>\n",
       "      <td>-0.019</td>\n",
       "      <td>-0.465</td>\n",
       "      <td>-0.431</td>\n",
       "      <td>-0.973</td>\n",
       "      <td>0.261</td>\n",
       "      <td>-0.071</td>\n",
       "      <td>-0.010</td>\n",
       "    </tr>\n",
       "    <tr>\n",
       "      <th>32578</th>\n",
       "      <td>RENT</td>\n",
       "      <td>HOMEIMPROVEMENT</td>\n",
       "      <td>B</td>\n",
       "      <td>N</td>\n",
       "      <td>-0.019</td>\n",
       "      <td>-0.465</td>\n",
       "      <td>2.111</td>\n",
       "      <td>-0.595</td>\n",
       "      <td>0.704</td>\n",
       "      <td>-0.071</td>\n",
       "      <td>-0.010</td>\n",
       "    </tr>\n",
       "    <tr>\n",
       "      <th>32579</th>\n",
       "      <td>MORTGAGE</td>\n",
       "      <td>PERSONAL</td>\n",
       "      <td>B</td>\n",
       "      <td>N</td>\n",
       "      <td>-0.019</td>\n",
       "      <td>-0.465</td>\n",
       "      <td>-0.431</td>\n",
       "      <td>-0.973</td>\n",
       "      <td>0.261</td>\n",
       "      <td>-0.253</td>\n",
       "      <td>-0.010</td>\n",
       "    </tr>\n",
       "    <tr>\n",
       "      <th>32580</th>\n",
       "      <td>RENT</td>\n",
       "      <td>MEDICAL</td>\n",
       "      <td>B</td>\n",
       "      <td>N</td>\n",
       "      <td>-0.019</td>\n",
       "      <td>-0.465</td>\n",
       "      <td>-0.431</td>\n",
       "      <td>0.222</td>\n",
       "      <td>-0.154</td>\n",
       "      <td>0.285</td>\n",
       "      <td>-0.010</td>\n",
       "    </tr>\n",
       "  </tbody>\n",
       "</table>\n",
       "<p>32416 rows × 11 columns</p>\n",
       "</div>"
      ],
      "text/plain": [
       "      person_home_ownership      loan_intent loan_grade  \\\n",
       "0                      RENT         PERSONAL          D   \n",
       "1                       OWN        EDUCATION          B   \n",
       "2                  MORTGAGE          MEDICAL          C   \n",
       "3                      RENT          MEDICAL          C   \n",
       "4                      RENT          MEDICAL          C   \n",
       "...                     ...              ...        ...   \n",
       "32576              MORTGAGE         PERSONAL          C   \n",
       "32577              MORTGAGE         PERSONAL          A   \n",
       "32578                  RENT  HOMEIMPROVEMENT          B   \n",
       "32579              MORTGAGE         PERSONAL          B   \n",
       "32580                  RENT          MEDICAL          B   \n",
       "\n",
       "      cb_person_default_on_file  person_age_WOE  loan_int_rate_WOE  \\\n",
       "0                             Y          -0.019              1.303   \n",
       "1                             N          -0.433             -0.465   \n",
       "2                             N          -0.019             -0.465   \n",
       "3                             N          -0.019              1.303   \n",
       "4                             Y          -0.019              1.303   \n",
       "...                         ...             ...                ...   \n",
       "32576                         N          -0.019             -0.465   \n",
       "32577                         N          -0.019             -0.465   \n",
       "32578                         N          -0.019             -0.465   \n",
       "32579                         N          -0.019             -0.465   \n",
       "32580                         N          -0.019             -0.465   \n",
       "\n",
       "       loan_percent_income_WOE  person_income_WOE  loan_amnt_WOE  \\\n",
       "0                        2.572              0.222          0.704   \n",
       "1                       -0.431              2.397         -0.154   \n",
       "2                        2.572              2.397         -0.154   \n",
       "3                        2.572             -0.595          0.704   \n",
       "4                        2.572              0.222          0.704   \n",
       "...                        ...                ...            ...   \n",
       "32576                   -0.431              0.222         -0.154   \n",
       "32577                   -0.431             -0.973          0.261   \n",
       "32578                    2.111             -0.595          0.704   \n",
       "32579                   -0.431             -0.973          0.261   \n",
       "32580                   -0.431              0.222         -0.154   \n",
       "\n",
       "       person_emp_length_WOE  cb_person_cred_hist_length_WOE  \n",
       "0                     -0.253                           0.066  \n",
       "1                     -0.253                           0.066  \n",
       "2                      0.285                           0.066  \n",
       "3                     -0.071                           0.066  \n",
       "4                     -0.253                           0.031  \n",
       "...                      ...                             ...  \n",
       "32576                  0.285                          -0.010  \n",
       "32577                 -0.071                          -0.010  \n",
       "32578                 -0.071                          -0.010  \n",
       "32579                 -0.253                          -0.010  \n",
       "32580                  0.285                          -0.010  \n",
       "\n",
       "[32416 rows x 11 columns]"
      ]
     },
     "execution_count": 30,
     "metadata": {},
     "output_type": "execute_result"
    }
   ],
   "source": [
    "x"
   ]
  },
  {
   "cell_type": "code",
   "execution_count": 31,
   "id": "e82b0c18",
   "metadata": {},
   "outputs": [],
   "source": [
    "import pickle\n",
    "woe_result = 'woe1.0.0.pkl'\n",
    "\n",
    "with open (woe_result, 'wb') as f:\n",
    "    pickle.dump(sk_pipe, f)"
   ]
  },
  {
   "cell_type": "markdown",
   "id": "ba543fa8",
   "metadata": {},
   "source": [
    "# Split Datatest"
   ]
  },
  {
   "cell_type": "code",
   "execution_count": 58,
   "id": "5a7a9207",
   "metadata": {},
   "outputs": [
    {
     "name": "stdout",
     "output_type": "stream",
     "text": [
      "Number of Train : 25932 80.0%\n",
      "Number of Test : 6484 20.0%\n"
     ]
    }
   ],
   "source": [
    "from sklearn.model_selection import train_test_split\n",
    "\n",
    "X_train, X_test, y_train, y_test = train_test_split(x, y, test_size=0.2, stratify=y, random_state=42)\n",
    "\n",
    "print(\"Number of Train :\", len(y_train), f\"{round(len(y_train) / len(y) * 100, 2)}%\")\n",
    "print(\"Number of Test :\", len(y_test), f\"{round(len(y_test) / len(y) * 100, 2)}%\")"
   ]
  },
  {
   "cell_type": "markdown",
   "id": "a4b99691",
   "metadata": {},
   "source": [
    "# Split by Data Types"
   ]
  },
  {
   "cell_type": "code",
   "execution_count": 33,
   "id": "70f0da2c",
   "metadata": {},
   "outputs": [
    {
     "data": {
      "text/plain": [
       "['person_age_WOE',\n",
       " 'loan_int_rate_WOE',\n",
       " 'loan_percent_income_WOE',\n",
       " 'person_income_WOE',\n",
       " 'loan_amnt_WOE',\n",
       " 'person_emp_length_WOE',\n",
       " 'cb_person_cred_hist_length_WOE']"
      ]
     },
     "execution_count": 33,
     "metadata": {},
     "output_type": "execute_result"
    }
   ],
   "source": [
    "num_columns = X_train.select_dtypes(include = 'number').columns.tolist()\n",
    "cat_columns = X_train.select_dtypes(exclude = 'number').columns.tolist()\n",
    "num_columns"
   ]
  },
  {
   "cell_type": "code",
   "execution_count": 34,
   "id": "fdc72b52",
   "metadata": {
    "scrolled": true
   },
   "outputs": [
    {
     "data": {
      "text/plain": [
       "['person_home_ownership',\n",
       " 'loan_intent',\n",
       " 'loan_grade',\n",
       " 'cb_person_default_on_file']"
      ]
     },
     "execution_count": 34,
     "metadata": {},
     "output_type": "execute_result"
    }
   ],
   "source": [
    "cat_columns"
   ]
  },
  {
   "cell_type": "markdown",
   "id": "f931bf45",
   "metadata": {},
   "source": [
    "# Pipeline"
   ]
  },
  {
   "cell_type": "code",
   "execution_count": 35,
   "id": "7e0f2cc9",
   "metadata": {},
   "outputs": [],
   "source": [
    "cat_pipe = Pipeline(steps=[\n",
    "    ('ohe', OneHotEncoder(drop=\"first\"))\n",
    "])\n",
    "\n",
    "num_pipe = Pipeline(steps=[\n",
    "    ('scaler', StandardScaler())\n",
    "])\n",
    "\n",
    "preprocess = ColumnTransformer(transformers=[\n",
    "    ('cat', cat_pipe, cat_columns),\n",
    "    ('num', num_pipe, num_columns)\n",
    "], remainder='passthrough')\n",
    "\n",
    "\n",
    "full_pipe = Pipeline(steps=[\n",
    "    ('preprocess', preprocess),\n",
    "    ('model', LogisticRegression(random_state=42, max_iter=1000))\n",
    "])"
   ]
  },
  {
   "cell_type": "code",
   "execution_count": 36,
   "id": "026e2e43",
   "metadata": {},
   "outputs": [],
   "source": [
    "param_space = {x\n",
    "    \"model__C\": [0.0001, 0.001, 0.01, 0.1, 2, 1, 3, 4, 5, 10, 100, 1000],\n",
    "    \"model__max_iter\": [1000],\n",
    "    \"model__random_state\": [42]\n",
    "}\n",
    "\n",
    "clf = GridSearchCV(full_pipe, \n",
    "                   param_space, \n",
    "                   scoring='roc_auc', \n",
    "                   cv=5, \n",
    "                   refit=True)"
   ]
  },
  {
   "cell_type": "code",
   "execution_count": 37,
   "id": "3c9c3b4c",
   "metadata": {
    "scrolled": true
   },
   "outputs": [
    {
     "data": {
      "text/plain": [
       "GridSearchCV(cv=5,\n",
       "             estimator=Pipeline(steps=[('preprocess',\n",
       "                                        ColumnTransformer(remainder='passthrough',\n",
       "                                                          transformers=[('cat',\n",
       "                                                                         Pipeline(steps=[('ohe',\n",
       "                                                                                          OneHotEncoder(drop='first'))]),\n",
       "                                                                         ['person_home_ownership',\n",
       "                                                                          'loan_intent',\n",
       "                                                                          'loan_grade',\n",
       "                                                                          'cb_person_default_on_file']),\n",
       "                                                                        ('num',\n",
       "                                                                         Pipeline(steps=[('scaler',\n",
       "                                                                                          StandardScaler())]),\n",
       "                                                                         ['person_age_WOE',\n",
       "                                                                          'loan_int_rate_WOE',\n",
       "                                                                          'loan_percent_income_WOE',\n",
       "                                                                          'person_income_WOE',\n",
       "                                                                          'loan_amnt_WOE',\n",
       "                                                                          'person_emp_length_WOE',\n",
       "                                                                          'cb_person_cred_hist_length_WOE'])])),\n",
       "                                       ('model',\n",
       "                                        LogisticRegression(max_iter=1000,\n",
       "                                                           random_state=42))]),\n",
       "             param_grid={'model__C': [0.0001, 0.001, 0.01, 0.1, 2, 1, 3, 4, 5,\n",
       "                                      10, 100, 1000],\n",
       "                         'model__max_iter': [1000],\n",
       "                         'model__random_state': [42]},\n",
       "             scoring='roc_auc')"
      ]
     },
     "execution_count": 37,
     "metadata": {},
     "output_type": "execute_result"
    }
   ],
   "source": [
    "clf.fit(X_train, y_train)"
   ]
  },
  {
   "cell_type": "code",
   "execution_count": 38,
   "id": "618f2bc1",
   "metadata": {
    "scrolled": true
   },
   "outputs": [
    {
     "data": {
      "text/plain": [
       "Pipeline(steps=[('preprocess',\n",
       "                 ColumnTransformer(remainder='passthrough',\n",
       "                                   transformers=[('cat',\n",
       "                                                  Pipeline(steps=[('ohe',\n",
       "                                                                   OneHotEncoder(drop='first'))]),\n",
       "                                                  ['person_home_ownership',\n",
       "                                                   'loan_intent', 'loan_grade',\n",
       "                                                   'cb_person_default_on_file']),\n",
       "                                                 ('num',\n",
       "                                                  Pipeline(steps=[('scaler',\n",
       "                                                                   StandardScaler())]),\n",
       "                                                  ['person_age_WOE',\n",
       "                                                   'loan_int_rate_WOE',\n",
       "                                                   'loan_percent_income_WOE',\n",
       "                                                   'person_income_WOE',\n",
       "                                                   'loan_amnt_WOE',\n",
       "                                                   'person_emp_length_WOE',\n",
       "                                                   'cb_person_cred_hist_length_WOE'])])),\n",
       "                ('model',\n",
       "                 LogisticRegression(C=100, max_iter=1000, random_state=42))])"
      ]
     },
     "execution_count": 38,
     "metadata": {},
     "output_type": "execute_result"
    }
   ],
   "source": [
    "clf.best_estimator_"
   ]
  },
  {
   "cell_type": "code",
   "execution_count": 41,
   "id": "6a6fb517",
   "metadata": {},
   "outputs": [],
   "source": [
    "model = clf.best_estimator_"
   ]
  },
  {
   "cell_type": "code",
   "execution_count": 59,
   "id": "798c259e",
   "metadata": {
    "scrolled": false
   },
   "outputs": [],
   "source": [
    "train_pred = model.predict(X_train)\n",
    "test_pred = model.predict(X_test)\n",
    "\n",
    "yhat_train = model.predict_proba(X_train)[:, 1]\n",
    "yhat_test = model.predict_proba(X_test)[:, 1]"
   ]
  },
  {
   "cell_type": "markdown",
   "id": "62310276",
   "metadata": {},
   "source": [
    "# Evaluate Model"
   ]
  },
  {
   "cell_type": "code",
   "execution_count": 47,
   "id": "24fc1d01",
   "metadata": {},
   "outputs": [],
   "source": [
    "from sklearn import metrics\n",
    "from sklearn.model_selection import cross_val_score\n",
    "\n",
    "def print_evaluate(true, predicted):\n",
    "    auc = metrics.roc_auc_score(true, predicted)\n",
    "    accuracy = metrics.accuracy_score(true, predicted)\n",
    "    print('Accuracy:', accuracy)\n",
    "    print('AUC:', auc)\n",
    "    print('__________________________________')\n",
    "    \n",
    "def evaluate(true, predicted):\n",
    "    auc = metrics.roc_auc_score(true, predicted)\n",
    "    accuracy = metrics.accuracy_score(true, predicted)\n",
    "    return accuracy, auc"
   ]
  },
  {
   "cell_type": "code",
   "execution_count": 61,
   "id": "a3f9db18",
   "metadata": {
    "scrolled": true
   },
   "outputs": [
    {
     "name": "stdout",
     "output_type": "stream",
     "text": [
      "Test set evaluation:\n",
      "_____________________________________\n",
      "Accuracy: 0.8871067242442936\n",
      "AUC: 0.8040984533077342\n",
      "__________________________________\n",
      "Train set evaluation:\n",
      "_____________________________________\n",
      "Accuracy: 0.8848912540490513\n",
      "AUC: 0.8015786204804239\n",
      "__________________________________\n"
     ]
    }
   ],
   "source": [
    "print('Test set evaluation:\\n_____________________________________')\n",
    "print_evaluate(y_test, test_pred)\n",
    "print('Train set evaluation:\\n_____________________________________')\n",
    "print_evaluate(y_train, train_pred)"
   ]
  },
  {
   "cell_type": "code",
   "execution_count": 62,
   "id": "94188944",
   "metadata": {},
   "outputs": [
    {
     "name": "stdout",
     "output_type": "stream",
     "text": [
      "ROC-AUC Score Train: 0.8904320135196364\n",
      "ROC-AUC Score Test: 0.8883885740663302\n"
     ]
    }
   ],
   "source": [
    "print(\"ROC-AUC Score Train:\", roc_auc_score(y_train, yhat_train))\n",
    "print(\"ROC-AUC Score Test:\", roc_auc_score(y_test, yhat_test))"
   ]
  },
  {
   "cell_type": "code",
   "execution_count": 65,
   "id": "7af4c4b3",
   "metadata": {
    "scrolled": false
   },
   "outputs": [
    {
     "name": "stdout",
     "output_type": "stream",
     "text": [
      "              precision    recall  f1-score   support\n",
      "\n",
      "           0       0.91      0.95      0.93      5066\n",
      "           1       0.79      0.66      0.72      1418\n",
      "\n",
      "    accuracy                           0.89      6484\n",
      "   macro avg       0.85      0.80      0.82      6484\n",
      "weighted avg       0.88      0.89      0.88      6484\n",
      "\n"
     ]
    }
   ],
   "source": [
    "print(classification_report(y_test, test_pred))"
   ]
  },
  {
   "cell_type": "markdown",
   "id": "85e97dce",
   "metadata": {},
   "source": [
    "# Plot ROC AUC"
   ]
  },
  {
   "cell_type": "code",
   "execution_count": 66,
   "id": "01cc3dad",
   "metadata": {},
   "outputs": [],
   "source": [
    "# https://stackoverflow.com/questions/28719067/roc-curve-and-cut-off-point-python\n",
    "def get_optimal_cutoff(tpr, fpr, thresholds):\n",
    "    i = np.arange(len(tpr)) # index for df\n",
    "    roc = pd.DataFrame({\n",
    "        'fpr' : pd.Series(fpr, index=i),\n",
    "        'tpr' : pd.Series(tpr, index = i), \n",
    "        '1-fpr' : pd.Series(1-fpr, index = i), \n",
    "        'tf' : pd.Series(tpr - (1-fpr), index = i), \n",
    "        'thresholds' : pd.Series(thresholds, index = i)})\n",
    "    \n",
    "    print(roc.iloc[[(roc.tf-0).abs().argmin()]])\n",
    "\n",
    "    # Plot tpr vs 1-fpr\n",
    "    fig, ax = plt.subplots()\n",
    "    _ = plt.plot(roc['tpr'])\n",
    "    _ = plt.plot(roc['1-fpr'], color = 'red')\n",
    "    _ = plt.xlabel('1-False Positive Rate')\n",
    "    _ = plt.ylabel('True Positive Rate')\n",
    "    _ = plt.title('Receiver operating characteristic')\n",
    "    _ = ax.set_xticklabels([])\n",
    "    \n",
    "    \n",
    "def plot_roc_auc(tpr, fpr, labels):\n",
    "    \n",
    "    if (isinstance(tpr, (list, np.array)) and isinstance(fpr, (list, np.array))):\n",
    "        \n",
    "        nlist = len(tpr)\n",
    "        \n",
    "        if all(len(val) == nlist for val in [tpr, fpr, labels]):\n",
    "            pass\n",
    "        else:\n",
    "            raise ValueError('length of parameter should be the same')\n",
    "               \n",
    "        fig, ax = plt.subplots(figsize=(8, 6.5))\n",
    "        _ = sns.despine(ax=ax)\n",
    "        _ = ax.plot([0, 1], [0, 1], color='navy', linestyle='--')\n",
    "        _ = ax.set_xlim([0.0, 1.0])\n",
    "        _ = ax.set_ylim([0.0, 1.05])\n",
    "        _ = ax.set_xlabel('False Positive Rate')\n",
    "        _ = ax.set_ylabel('True Positive Rate')\n",
    "        _ = ax.set_title('Receiver operating characteristic example')\n",
    "        \n",
    "        for i in range(nlist):\n",
    "        \n",
    "            roc_auc = auc(fpr[i], tpr[i])\n",
    "            _ = ax.plot(\n",
    "                fpr[i], \n",
    "                tpr[i], \n",
    "                label=f'ROC curve {labels[i]} (area = {roc_auc: 0.2f}'\n",
    "            )\n",
    "        \n",
    "        _ = fig.legend(loc=\"right\")\n",
    "        \n",
    "    else:\n",
    "        roc_auc = auc(fpr, tpr)\n",
    "        \n",
    "        fig, ax = plt.subplots(figsize=(8, 6.5))\n",
    "        _ = sns.despine(ax=ax)\n",
    "        _ = ax.plot([0, 1], [0, 1], color='navy', linestyle='--')\n",
    "        _ = ax.set_xlim([0.0, 1.0])\n",
    "        _ = ax.set_ylim([0.0, 1.05])\n",
    "        _ = ax.set_xlabel('False Positive Rate')\n",
    "        _ = ax.set_ylabel('True Positive Rate')\n",
    "        _ = ax.set_title('Receiver operating characteristic example')\n",
    "        _ = ax.plot(\n",
    "            fpr, \n",
    "            tpr, \n",
    "            label=f'ROC curve {labels} (area = {roc_auc: 0.2f}'\n",
    "        )\n",
    "        \n",
    "    _ = fig.legend(loc=\"right\")"
   ]
  },
  {
   "cell_type": "code",
   "execution_count": 68,
   "id": "17329a0f",
   "metadata": {
    "scrolled": true
   },
   "outputs": [
    {
     "name": "stdout",
     "output_type": "stream",
     "text": [
      "         fpr       tpr    1-fpr        tf  thresholds\n",
      "805  0.18259  0.817348  0.81741 -0.000062    0.171982\n"
     ]
    }
   ],
   "source": [
    "from sklearn.metrics import roc_curve, auc, roc_auc_score, classification_report\n",
    "\n",
    "fpr_train, tpr_train, thresholds_train =roc_curve(y_train, \n",
    "                                                  yhat_train)\n",
    "fpr_test, tpr_test, thresholds_test =roc_curve(y_test, \n",
    "                                               yhat_test)\n",
    "\n",
    "roc_auc_train = auc(fpr_train, tpr_train)\n",
    "roc_auc_test = auc(fpr_test, tpr_test)\n",
    "\n",
    "tpr = tpr_test\n",
    "fpr = fpr_test\n",
    "\n",
    "thresholds = thresholds_test\n",
    "get_optimal_cutoff(tpr, fpr, thresholds)"
   ]
  },
  {
   "cell_type": "code",
   "execution_count": 71,
   "id": "28cecc9b",
   "metadata": {},
   "outputs": [
    {
     "name": "stdout",
     "output_type": "stream",
     "text": [
      "              precision    recall  f1-score   support\n",
      "\n",
      "           0       0.94      0.82      0.88      5066\n",
      "           1       0.56      0.82      0.66      1418\n",
      "\n",
      "    accuracy                           0.82      6484\n",
      "   macro avg       0.75      0.82      0.77      6484\n",
      "weighted avg       0.86      0.82      0.83      6484\n",
      "\n"
     ]
    }
   ],
   "source": [
    "threshold = 0.171982 \n",
    "\n",
    "y_pred_train = np.where(yhat_train > threshold, 1, 0)\n",
    "y_pred_test = np.where(yhat_test> threshold, 1, 0)\n",
    "\n",
    "print(classification_report(y_test, \n",
    "                            y_pred_test))"
   ]
  },
  {
   "cell_type": "markdown",
   "id": "29529331",
   "metadata": {},
   "source": [
    "# Save Model"
   ]
  },
  {
   "cell_type": "code",
   "execution_count": 50,
   "id": "ec319ccc",
   "metadata": {},
   "outputs": [],
   "source": [
    "import pickle \n",
    "\n",
    "model_name = 'model-LR-1.0.0.pkl'\n",
    "\n",
    "with open(model_name, 'wb') as f:\n",
    "    pickle.dump(model, f)"
   ]
  },
  {
   "cell_type": "code",
   "execution_count": 55,
   "id": "4cd6a834",
   "metadata": {},
   "outputs": [],
   "source": [
    "with open(model_name, 'rb') as f:\n",
    "    model = pickle.load(f)"
   ]
  },
  {
   "cell_type": "code",
   "execution_count": 56,
   "id": "1cedb046",
   "metadata": {},
   "outputs": [],
   "source": [
    "yhat_train = model.predict_proba(X_train)[:, 1]\n",
    "yhat_test = model.predict_proba(X_test)[:, 1]"
   ]
  },
  {
   "cell_type": "code",
   "execution_count": 57,
   "id": "1870ddf9",
   "metadata": {
    "scrolled": true
   },
   "outputs": [
    {
     "name": "stdout",
     "output_type": "stream",
     "text": [
      "ROC-AUC Score Train: 0.8904320135196364\n",
      "ROC-AUC Score Test: 0.8883885740663302\n"
     ]
    }
   ],
   "source": [
    "print(\"ROC-AUC Score Train:\", roc_auc_score(y_train, yhat_train))\n",
    "print(\"ROC-AUC Score Test:\", roc_auc_score(y_test, yhat_test))"
   ]
  },
  {
   "cell_type": "code",
   "execution_count": 72,
   "id": "af456e61",
   "metadata": {},
   "outputs": [],
   "source": [
    "with open('woe1.0.0.pkl', 'rb') as f:\n",
    "    preprocess = pickle.load(f)"
   ]
  },
  {
   "cell_type": "code",
   "execution_count": 74,
   "id": "5472852c",
   "metadata": {},
   "outputs": [
    {
     "ename": "KeyError",
     "evalue": "'person_age'",
     "output_type": "error",
     "traceback": [
      "\u001b[1;31m---------------------------------------------------------------------------\u001b[0m",
      "\u001b[1;31mKeyError\u001b[0m                                  Traceback (most recent call last)",
      "\u001b[1;32m~\\anaconda3\\envs\\jcopml\\lib\\site-packages\\pandas\\core\\indexes\\base.py\u001b[0m in \u001b[0;36mget_loc\u001b[1;34m(self, key, method, tolerance)\u001b[0m\n\u001b[0;32m   2897\u001b[0m             \u001b[1;32mtry\u001b[0m\u001b[1;33m:\u001b[0m\u001b[1;33m\u001b[0m\u001b[1;33m\u001b[0m\u001b[0m\n\u001b[1;32m-> 2898\u001b[1;33m                 \u001b[1;32mreturn\u001b[0m \u001b[0mself\u001b[0m\u001b[1;33m.\u001b[0m\u001b[0m_engine\u001b[0m\u001b[1;33m.\u001b[0m\u001b[0mget_loc\u001b[0m\u001b[1;33m(\u001b[0m\u001b[0mcasted_key\u001b[0m\u001b[1;33m)\u001b[0m\u001b[1;33m\u001b[0m\u001b[1;33m\u001b[0m\u001b[0m\n\u001b[0m\u001b[0;32m   2899\u001b[0m             \u001b[1;32mexcept\u001b[0m \u001b[0mKeyError\u001b[0m \u001b[1;32mas\u001b[0m \u001b[0merr\u001b[0m\u001b[1;33m:\u001b[0m\u001b[1;33m\u001b[0m\u001b[1;33m\u001b[0m\u001b[0m\n",
      "\u001b[1;32mpandas\\_libs\\index.pyx\u001b[0m in \u001b[0;36mpandas._libs.index.IndexEngine.get_loc\u001b[1;34m()\u001b[0m\n",
      "\u001b[1;32mpandas\\_libs\\index.pyx\u001b[0m in \u001b[0;36mpandas._libs.index.IndexEngine.get_loc\u001b[1;34m()\u001b[0m\n",
      "\u001b[1;32mpandas\\_libs\\hashtable_class_helper.pxi\u001b[0m in \u001b[0;36mpandas._libs.hashtable.PyObjectHashTable.get_item\u001b[1;34m()\u001b[0m\n",
      "\u001b[1;32mpandas\\_libs\\hashtable_class_helper.pxi\u001b[0m in \u001b[0;36mpandas._libs.hashtable.PyObjectHashTable.get_item\u001b[1;34m()\u001b[0m\n",
      "\u001b[1;31mKeyError\u001b[0m: 'person_age'",
      "\nThe above exception was the direct cause of the following exception:\n",
      "\u001b[1;31mKeyError\u001b[0m                                  Traceback (most recent call last)",
      "\u001b[1;32m<ipython-input-74-fc22959785e8>\u001b[0m in \u001b[0;36m<module>\u001b[1;34m\u001b[0m\n\u001b[1;32m----> 1\u001b[1;33m \u001b[0mpreprocess\u001b[0m\u001b[1;33m.\u001b[0m\u001b[0mfit_transform\u001b[0m\u001b[1;33m(\u001b[0m\u001b[0mx\u001b[0m\u001b[1;33m)\u001b[0m\u001b[1;33m\u001b[0m\u001b[1;33m\u001b[0m\u001b[0m\n\u001b[0m",
      "\u001b[1;32m~\\anaconda3\\envs\\jcopml\\lib\\site-packages\\sklearn\\pipeline.py\u001b[0m in \u001b[0;36mfit_transform\u001b[1;34m(self, X, y, **fit_params)\u001b[0m\n\u001b[0;32m    385\u001b[0m             \u001b[0mfit_params_last_step\u001b[0m \u001b[1;33m=\u001b[0m \u001b[0mfit_params_steps\u001b[0m\u001b[1;33m[\u001b[0m\u001b[0mself\u001b[0m\u001b[1;33m.\u001b[0m\u001b[0msteps\u001b[0m\u001b[1;33m[\u001b[0m\u001b[1;33m-\u001b[0m\u001b[1;36m1\u001b[0m\u001b[1;33m]\u001b[0m\u001b[1;33m[\u001b[0m\u001b[1;36m0\u001b[0m\u001b[1;33m]\u001b[0m\u001b[1;33m]\u001b[0m\u001b[1;33m\u001b[0m\u001b[1;33m\u001b[0m\u001b[0m\n\u001b[0;32m    386\u001b[0m             \u001b[1;32mif\u001b[0m \u001b[0mhasattr\u001b[0m\u001b[1;33m(\u001b[0m\u001b[0mlast_step\u001b[0m\u001b[1;33m,\u001b[0m \u001b[1;34m'fit_transform'\u001b[0m\u001b[1;33m)\u001b[0m\u001b[1;33m:\u001b[0m\u001b[1;33m\u001b[0m\u001b[1;33m\u001b[0m\u001b[0m\n\u001b[1;32m--> 387\u001b[1;33m                 \u001b[1;32mreturn\u001b[0m \u001b[0mlast_step\u001b[0m\u001b[1;33m.\u001b[0m\u001b[0mfit_transform\u001b[0m\u001b[1;33m(\u001b[0m\u001b[0mXt\u001b[0m\u001b[1;33m,\u001b[0m \u001b[0my\u001b[0m\u001b[1;33m,\u001b[0m \u001b[1;33m**\u001b[0m\u001b[0mfit_params_last_step\u001b[0m\u001b[1;33m)\u001b[0m\u001b[1;33m\u001b[0m\u001b[1;33m\u001b[0m\u001b[0m\n\u001b[0m\u001b[0;32m    388\u001b[0m             \u001b[1;32melse\u001b[0m\u001b[1;33m:\u001b[0m\u001b[1;33m\u001b[0m\u001b[1;33m\u001b[0m\u001b[0m\n\u001b[0;32m    389\u001b[0m                 return last_step.fit(Xt, y,\n",
      "\u001b[1;32m~\\anaconda3\\envs\\jcopml\\lib\\site-packages\\sklearn\\base.py\u001b[0m in \u001b[0;36mfit_transform\u001b[1;34m(self, X, y, **fit_params)\u001b[0m\n\u001b[0;32m    697\u001b[0m         \u001b[1;32mif\u001b[0m \u001b[0my\u001b[0m \u001b[1;32mis\u001b[0m \u001b[1;32mNone\u001b[0m\u001b[1;33m:\u001b[0m\u001b[1;33m\u001b[0m\u001b[1;33m\u001b[0m\u001b[0m\n\u001b[0;32m    698\u001b[0m             \u001b[1;31m# fit method of arity 1 (unsupervised transformation)\u001b[0m\u001b[1;33m\u001b[0m\u001b[1;33m\u001b[0m\u001b[1;33m\u001b[0m\u001b[0m\n\u001b[1;32m--> 699\u001b[1;33m             \u001b[1;32mreturn\u001b[0m \u001b[0mself\u001b[0m\u001b[1;33m.\u001b[0m\u001b[0mfit\u001b[0m\u001b[1;33m(\u001b[0m\u001b[0mX\u001b[0m\u001b[1;33m,\u001b[0m \u001b[1;33m**\u001b[0m\u001b[0mfit_params\u001b[0m\u001b[1;33m)\u001b[0m\u001b[1;33m.\u001b[0m\u001b[0mtransform\u001b[0m\u001b[1;33m(\u001b[0m\u001b[0mX\u001b[0m\u001b[1;33m)\u001b[0m\u001b[1;33m\u001b[0m\u001b[1;33m\u001b[0m\u001b[0m\n\u001b[0m\u001b[0;32m    700\u001b[0m         \u001b[1;32melse\u001b[0m\u001b[1;33m:\u001b[0m\u001b[1;33m\u001b[0m\u001b[1;33m\u001b[0m\u001b[0m\n\u001b[0;32m    701\u001b[0m             \u001b[1;31m# fit method of arity 2 (supervised transformation)\u001b[0m\u001b[1;33m\u001b[0m\u001b[1;33m\u001b[0m\u001b[1;33m\u001b[0m\u001b[0m\n",
      "\u001b[1;32m~\\anaconda3\\envs\\jcopml\\lib\\site-packages\\sklearn\\preprocessing\\_function_transformer.py\u001b[0m in \u001b[0;36mtransform\u001b[1;34m(self, X)\u001b[0m\n\u001b[0;32m    145\u001b[0m             \u001b[0mTransformed\u001b[0m \u001b[0minput\u001b[0m\u001b[1;33m.\u001b[0m\u001b[1;33m\u001b[0m\u001b[1;33m\u001b[0m\u001b[0m\n\u001b[0;32m    146\u001b[0m         \"\"\"\n\u001b[1;32m--> 147\u001b[1;33m         \u001b[1;32mreturn\u001b[0m \u001b[0mself\u001b[0m\u001b[1;33m.\u001b[0m\u001b[0m_transform\u001b[0m\u001b[1;33m(\u001b[0m\u001b[0mX\u001b[0m\u001b[1;33m,\u001b[0m \u001b[0mfunc\u001b[0m\u001b[1;33m=\u001b[0m\u001b[0mself\u001b[0m\u001b[1;33m.\u001b[0m\u001b[0mfunc\u001b[0m\u001b[1;33m,\u001b[0m \u001b[0mkw_args\u001b[0m\u001b[1;33m=\u001b[0m\u001b[0mself\u001b[0m\u001b[1;33m.\u001b[0m\u001b[0mkw_args\u001b[0m\u001b[1;33m)\u001b[0m\u001b[1;33m\u001b[0m\u001b[1;33m\u001b[0m\u001b[0m\n\u001b[0m\u001b[0;32m    148\u001b[0m \u001b[1;33m\u001b[0m\u001b[0m\n\u001b[0;32m    149\u001b[0m     \u001b[1;32mdef\u001b[0m \u001b[0minverse_transform\u001b[0m\u001b[1;33m(\u001b[0m\u001b[0mself\u001b[0m\u001b[1;33m,\u001b[0m \u001b[0mX\u001b[0m\u001b[1;33m)\u001b[0m\u001b[1;33m:\u001b[0m\u001b[1;33m\u001b[0m\u001b[1;33m\u001b[0m\u001b[0m\n",
      "\u001b[1;32m~\\anaconda3\\envs\\jcopml\\lib\\site-packages\\sklearn\\preprocessing\\_function_transformer.py\u001b[0m in \u001b[0;36m_transform\u001b[1;34m(self, X, func, kw_args)\u001b[0m\n\u001b[0;32m    169\u001b[0m             \u001b[0mfunc\u001b[0m \u001b[1;33m=\u001b[0m \u001b[0m_identity\u001b[0m\u001b[1;33m\u001b[0m\u001b[1;33m\u001b[0m\u001b[0m\n\u001b[0;32m    170\u001b[0m \u001b[1;33m\u001b[0m\u001b[0m\n\u001b[1;32m--> 171\u001b[1;33m         \u001b[1;32mreturn\u001b[0m \u001b[0mfunc\u001b[0m\u001b[1;33m(\u001b[0m\u001b[0mX\u001b[0m\u001b[1;33m,\u001b[0m \u001b[1;33m**\u001b[0m\u001b[1;33m(\u001b[0m\u001b[0mkw_args\u001b[0m \u001b[1;32mif\u001b[0m \u001b[0mkw_args\u001b[0m \u001b[1;32melse\u001b[0m \u001b[1;33m{\u001b[0m\u001b[1;33m}\u001b[0m\u001b[1;33m)\u001b[0m\u001b[1;33m)\u001b[0m\u001b[1;33m\u001b[0m\u001b[1;33m\u001b[0m\u001b[0m\n\u001b[0m\u001b[0;32m    172\u001b[0m \u001b[1;33m\u001b[0m\u001b[0m\n\u001b[0;32m    173\u001b[0m     \u001b[1;32mdef\u001b[0m \u001b[0m_more_tags\u001b[0m\u001b[1;33m(\u001b[0m\u001b[0mself\u001b[0m\u001b[1;33m)\u001b[0m\u001b[1;33m:\u001b[0m\u001b[1;33m\u001b[0m\u001b[1;33m\u001b[0m\u001b[0m\n",
      "\u001b[1;32m<ipython-input-28-7958560c9142>\u001b[0m in \u001b[0;36mwoe\u001b[1;34m(data)\u001b[0m\n\u001b[0;32m     11\u001b[0m \u001b[1;33m\u001b[0m\u001b[0m\n\u001b[0;32m     12\u001b[0m     \u001b[1;32mfor\u001b[0m \u001b[0mfeature\u001b[0m\u001b[1;33m,\u001b[0m \u001b[0mwoe_info\u001b[0m \u001b[1;32min\u001b[0m \u001b[0mwoe\u001b[0m\u001b[1;33m.\u001b[0m\u001b[0mitems\u001b[0m\u001b[1;33m(\u001b[0m\u001b[1;33m)\u001b[0m\u001b[1;33m:\u001b[0m\u001b[1;33m\u001b[0m\u001b[1;33m\u001b[0m\u001b[0m\n\u001b[1;32m---> 13\u001b[1;33m         \u001b[0mdata\u001b[0m\u001b[1;33m[\u001b[0m\u001b[1;34mf'{feature}_WOE'\u001b[0m\u001b[1;33m]\u001b[0m \u001b[1;33m=\u001b[0m \u001b[0mpd\u001b[0m\u001b[1;33m.\u001b[0m\u001b[0mcut\u001b[0m\u001b[1;33m(\u001b[0m\u001b[0mdata\u001b[0m\u001b[1;33m[\u001b[0m\u001b[0mfeature\u001b[0m\u001b[1;33m]\u001b[0m\u001b[1;33m,\u001b[0m \u001b[0mbins\u001b[0m \u001b[1;33m=\u001b[0m \u001b[0mwoe_info\u001b[0m\u001b[1;33m[\u001b[0m\u001b[1;34m'binning'\u001b[0m\u001b[1;33m]\u001b[0m\u001b[1;33m,\u001b[0m \u001b[0mlabels\u001b[0m \u001b[1;33m=\u001b[0m \u001b[0mwoe_info\u001b[0m\u001b[1;33m[\u001b[0m\u001b[1;34m'labels'\u001b[0m\u001b[1;33m]\u001b[0m\u001b[1;33m)\u001b[0m\u001b[1;33m\u001b[0m\u001b[1;33m\u001b[0m\u001b[0m\n\u001b[0m\u001b[0;32m     14\u001b[0m         \u001b[0mdata\u001b[0m\u001b[1;33m[\u001b[0m\u001b[1;34mf'{feature}_WOE'\u001b[0m\u001b[1;33m]\u001b[0m \u001b[1;33m=\u001b[0m \u001b[0mdata\u001b[0m\u001b[1;33m[\u001b[0m\u001b[1;34mf'{feature}_WOE'\u001b[0m\u001b[1;33m]\u001b[0m\u001b[1;33m.\u001b[0m\u001b[0mvalues\u001b[0m\u001b[1;33m.\u001b[0m\u001b[0madd_categories\u001b[0m\u001b[1;33m(\u001b[0m\u001b[1;34m'Nan'\u001b[0m\u001b[1;33m)\u001b[0m\u001b[1;33m.\u001b[0m\u001b[0mfillna\u001b[0m\u001b[1;33m(\u001b[0m\u001b[1;34m'Nan'\u001b[0m\u001b[1;33m)\u001b[0m\u001b[1;33m\u001b[0m\u001b[1;33m\u001b[0m\u001b[0m\n\u001b[0;32m     15\u001b[0m         \u001b[0mdata\u001b[0m\u001b[1;33m[\u001b[0m\u001b[1;34mf'{feature}_WOE'\u001b[0m\u001b[1;33m]\u001b[0m \u001b[1;33m=\u001b[0m \u001b[0mdata\u001b[0m\u001b[1;33m[\u001b[0m\u001b[1;34mf'{feature}_WOE'\u001b[0m\u001b[1;33m]\u001b[0m\u001b[1;33m.\u001b[0m\u001b[0mreplace\u001b[0m\u001b[1;33m(\u001b[0m\u001b[1;34m'Nan'\u001b[0m\u001b[1;33m,\u001b[0m \u001b[0mwoe_info\u001b[0m\u001b[1;33m[\u001b[0m\u001b[1;34m'nan'\u001b[0m\u001b[1;33m]\u001b[0m\u001b[1;33m)\u001b[0m\u001b[1;33m\u001b[0m\u001b[1;33m\u001b[0m\u001b[0m\n",
      "\u001b[1;32m~\\anaconda3\\envs\\jcopml\\lib\\site-packages\\pandas\\core\\frame.py\u001b[0m in \u001b[0;36m__getitem__\u001b[1;34m(self, key)\u001b[0m\n\u001b[0;32m   2904\u001b[0m             \u001b[1;32mif\u001b[0m \u001b[0mself\u001b[0m\u001b[1;33m.\u001b[0m\u001b[0mcolumns\u001b[0m\u001b[1;33m.\u001b[0m\u001b[0mnlevels\u001b[0m \u001b[1;33m>\u001b[0m \u001b[1;36m1\u001b[0m\u001b[1;33m:\u001b[0m\u001b[1;33m\u001b[0m\u001b[1;33m\u001b[0m\u001b[0m\n\u001b[0;32m   2905\u001b[0m                 \u001b[1;32mreturn\u001b[0m \u001b[0mself\u001b[0m\u001b[1;33m.\u001b[0m\u001b[0m_getitem_multilevel\u001b[0m\u001b[1;33m(\u001b[0m\u001b[0mkey\u001b[0m\u001b[1;33m)\u001b[0m\u001b[1;33m\u001b[0m\u001b[1;33m\u001b[0m\u001b[0m\n\u001b[1;32m-> 2906\u001b[1;33m             \u001b[0mindexer\u001b[0m \u001b[1;33m=\u001b[0m \u001b[0mself\u001b[0m\u001b[1;33m.\u001b[0m\u001b[0mcolumns\u001b[0m\u001b[1;33m.\u001b[0m\u001b[0mget_loc\u001b[0m\u001b[1;33m(\u001b[0m\u001b[0mkey\u001b[0m\u001b[1;33m)\u001b[0m\u001b[1;33m\u001b[0m\u001b[1;33m\u001b[0m\u001b[0m\n\u001b[0m\u001b[0;32m   2907\u001b[0m             \u001b[1;32mif\u001b[0m \u001b[0mis_integer\u001b[0m\u001b[1;33m(\u001b[0m\u001b[0mindexer\u001b[0m\u001b[1;33m)\u001b[0m\u001b[1;33m:\u001b[0m\u001b[1;33m\u001b[0m\u001b[1;33m\u001b[0m\u001b[0m\n\u001b[0;32m   2908\u001b[0m                 \u001b[0mindexer\u001b[0m \u001b[1;33m=\u001b[0m \u001b[1;33m[\u001b[0m\u001b[0mindexer\u001b[0m\u001b[1;33m]\u001b[0m\u001b[1;33m\u001b[0m\u001b[1;33m\u001b[0m\u001b[0m\n",
      "\u001b[1;32m~\\anaconda3\\envs\\jcopml\\lib\\site-packages\\pandas\\core\\indexes\\base.py\u001b[0m in \u001b[0;36mget_loc\u001b[1;34m(self, key, method, tolerance)\u001b[0m\n\u001b[0;32m   2898\u001b[0m                 \u001b[1;32mreturn\u001b[0m \u001b[0mself\u001b[0m\u001b[1;33m.\u001b[0m\u001b[0m_engine\u001b[0m\u001b[1;33m.\u001b[0m\u001b[0mget_loc\u001b[0m\u001b[1;33m(\u001b[0m\u001b[0mcasted_key\u001b[0m\u001b[1;33m)\u001b[0m\u001b[1;33m\u001b[0m\u001b[1;33m\u001b[0m\u001b[0m\n\u001b[0;32m   2899\u001b[0m             \u001b[1;32mexcept\u001b[0m \u001b[0mKeyError\u001b[0m \u001b[1;32mas\u001b[0m \u001b[0merr\u001b[0m\u001b[1;33m:\u001b[0m\u001b[1;33m\u001b[0m\u001b[1;33m\u001b[0m\u001b[0m\n\u001b[1;32m-> 2900\u001b[1;33m                 \u001b[1;32mraise\u001b[0m \u001b[0mKeyError\u001b[0m\u001b[1;33m(\u001b[0m\u001b[0mkey\u001b[0m\u001b[1;33m)\u001b[0m \u001b[1;32mfrom\u001b[0m \u001b[0merr\u001b[0m\u001b[1;33m\u001b[0m\u001b[1;33m\u001b[0m\u001b[0m\n\u001b[0m\u001b[0;32m   2901\u001b[0m \u001b[1;33m\u001b[0m\u001b[0m\n\u001b[0;32m   2902\u001b[0m         \u001b[1;32mif\u001b[0m \u001b[0mtolerance\u001b[0m \u001b[1;32mis\u001b[0m \u001b[1;32mnot\u001b[0m \u001b[1;32mNone\u001b[0m\u001b[1;33m:\u001b[0m\u001b[1;33m\u001b[0m\u001b[1;33m\u001b[0m\u001b[0m\n",
      "\u001b[1;31mKeyError\u001b[0m: 'person_age'"
     ]
    }
   ],
   "source": [
    "preprocess.fit_transform(x)"
   ]
  }
 ],
 "metadata": {
  "kernelspec": {
   "display_name": "Python [conda env:jcopml] *",
   "language": "python",
   "name": "conda-env-jcopml-py"
  },
  "language_info": {
   "codemirror_mode": {
    "name": "ipython",
    "version": 3
   },
   "file_extension": ".py",
   "mimetype": "text/x-python",
   "name": "python",
   "nbconvert_exporter": "python",
   "pygments_lexer": "ipython3",
   "version": "3.6.13"
  }
 },
 "nbformat": 4,
 "nbformat_minor": 5
}
